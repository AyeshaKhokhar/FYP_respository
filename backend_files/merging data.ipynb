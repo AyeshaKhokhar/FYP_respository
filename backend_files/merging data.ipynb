{
 "cells": [
  {
   "cell_type": "markdown",
   "id": "7f609e97",
   "metadata": {},
   "source": [
    "# Merging and cleaning all review files"
   ]
  },
  {
   "cell_type": "code",
   "execution_count": 7,
   "id": "95b0687a",
   "metadata": {},
   "outputs": [
    {
     "name": "stdout",
     "output_type": "stream",
     "text": [
      "Merged CSV file saved to C:\\Users\\itw\\Downloads\\all csv\\merged_output.csv\n"
     ]
    }
   ],
   "source": [
    "import os\n",
    "import pandas as pd\n",
    "\n",
    "def clean_review_text(review):\n",
    "    \"\"\"Removes 'â€¦' from the end of a review if it exists.\"\"\"\n",
    "    if isinstance(review, str) and review.endswith(\"â€¦\"):\n",
    "        return review[:-3]\n",
    "    return review\n",
    "\n",
    "def concatenate_all_csv_files(folder_paths, output_file):\n",
    "    # List to store dataframes\n",
    "    all_dataframes = []\n",
    "    \n",
    "    # Iterate over each folder path\n",
    "    for folder_path in folder_paths:\n",
    "        # Iterate over all files in the folder\n",
    "        for filename in os.listdir(folder_path):\n",
    "            if filename.endswith(\".csv\"):\n",
    "                file_path = os.path.join(folder_path, filename)\n",
    "                # Read the CSV file\n",
    "                df = pd.read_csv(file_path)\n",
    "                # Clean the review column\n",
    "                if 'review' in df.columns:\n",
    "                    df['review'] = df['review'].apply(clean_review_text)\n",
    "                # Append to the list of dataframes\n",
    "                all_dataframes.append(df)\n",
    "    \n",
    "    # Concatenate all dataframes in the list\n",
    "    concatenated_df = pd.concat(all_dataframes, ignore_index=True)\n",
    "\n",
    "    # Save the concatenated dataframe to a new CSV file\n",
    "    concatenated_df.to_csv(output_file, index=False)\n",
    "    print(f\"Merged CSV file saved to {output_file}\")\n",
    "\n",
    "# List of folder paths\n",
    "folders = [r'C:\\Users\\itw\\Downloads\\skp csv\\\\' , r'C:\\Users\\itw\\Downloads\\lahore csv\\\\', r'C:\\Users\\itw\\Downloads\\karachi csv\\\\', r'C:\\Users\\itw\\Downloads\\islamabad csv\\\\']\n",
    "\n",
    "# Output file rpath\n",
    "output_file = r'C:\\Users\\itw\\Downloads\\all csv\\merged_output.csv'\n",
    "\n",
    "# Call the function with the list of folder paths and the output file path\n",
    "concatenate_all_csv_files(folders, output_file)\n"
   ]
  },
  {
   "cell_type": "code",
   "execution_count": null,
   "id": "5acb7fef",
   "metadata": {},
   "outputs": [],
   "source": []
  }
 ],
 "metadata": {
  "kernelspec": {
   "display_name": "Python 3 (ipykernel)",
   "language": "python",
   "name": "python3"
  },
  "language_info": {
   "codemirror_mode": {
    "name": "ipython",
    "version": 3
   },
   "file_extension": ".py",
   "mimetype": "text/x-python",
   "name": "python",
   "nbconvert_exporter": "python",
   "pygments_lexer": "ipython3",
   "version": "3.11.1"
  }
 },
 "nbformat": 4,
 "nbformat_minor": 5
}
